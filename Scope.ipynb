{
 "cells": [
  {
   "cell_type": "markdown",
   "metadata": {},
   "source": [
    "## Local Variable"
   ]
  },
  {
   "cell_type": "code",
   "execution_count": 3,
   "metadata": {},
   "outputs": [],
   "source": [
    "def display(name):\n",
    "    age = 22  # local variable\n",
    "    print(f\"{name}'s age is {age}\")"
   ]
  },
  {
   "cell_type": "code",
   "execution_count": 4,
   "metadata": {},
   "outputs": [
    {
     "name": "stdout",
     "output_type": "stream",
     "text": [
      "shreya's age is 22\n"
     ]
    }
   ],
   "source": [
    "display(\"shreya\")"
   ]
  },
  {
   "cell_type": "code",
   "execution_count": 5,
   "metadata": {},
   "outputs": [
    {
     "ename": "NameError",
     "evalue": "name 'age' is not defined",
     "output_type": "error",
     "traceback": [
      "\u001b[1;31m---------------------------------------------------------------------------\u001b[0m",
      "\u001b[1;31mNameError\u001b[0m                                 Traceback (most recent call last)",
      "\u001b[1;32m<ipython-input-5-5f7a7c5b2c60>\u001b[0m in \u001b[0;36m<module>\u001b[1;34m\u001b[0m\n\u001b[1;32m----> 1\u001b[1;33m \u001b[0mprint\u001b[0m\u001b[1;33m(\u001b[0m\u001b[0mage\u001b[0m\u001b[1;33m)\u001b[0m\u001b[1;33m\u001b[0m\u001b[1;33m\u001b[0m\u001b[0m\n\u001b[0m",
      "\u001b[1;31mNameError\u001b[0m: name 'age' is not defined"
     ]
    }
   ],
   "source": [
    "print(age)"
   ]
  },
  {
   "cell_type": "code",
   "execution_count": 6,
   "metadata": {},
   "outputs": [],
   "source": [
    "def display(name):\n",
    "    age = 22  # local variable\n",
    "    print(f\"{name}'s age is {age}\")\n",
    "    print(age)"
   ]
  },
  {
   "cell_type": "code",
   "execution_count": 7,
   "metadata": {},
   "outputs": [
    {
     "name": "stdout",
     "output_type": "stream",
     "text": [
      "sneha's age is 22\n",
      "22\n"
     ]
    }
   ],
   "source": [
    "display(\"sneha\")"
   ]
  },
  {
   "cell_type": "code",
   "execution_count": 8,
   "metadata": {},
   "outputs": [
    {
     "ename": "NameError",
     "evalue": "name 'name' is not defined",
     "output_type": "error",
     "traceback": [
      "\u001b[1;31m---------------------------------------------------------------------------\u001b[0m",
      "\u001b[1;31mNameError\u001b[0m                                 Traceback (most recent call last)",
      "\u001b[1;32m<ipython-input-8-9ba126b17b03>\u001b[0m in \u001b[0;36m<module>\u001b[1;34m\u001b[0m\n\u001b[1;32m----> 1\u001b[1;33m \u001b[0mprint\u001b[0m\u001b[1;33m(\u001b[0m\u001b[0mname\u001b[0m\u001b[1;33m)\u001b[0m\u001b[1;33m\u001b[0m\u001b[1;33m\u001b[0m\u001b[0m\n\u001b[0m",
      "\u001b[1;31mNameError\u001b[0m: name 'name' is not defined"
     ]
    }
   ],
   "source": [
    "print(name)"
   ]
  },
  {
   "cell_type": "code",
   "execution_count": 13,
   "metadata": {},
   "outputs": [],
   "source": [
    "def display(name):\n",
    "    age = 22  # local variable\n",
    "    print(f\"{name}'s age is {age}\")\n",
    "    print(age)\n",
    "    print(name)\n",
    "    print(locals())"
   ]
  },
  {
   "cell_type": "code",
   "execution_count": 14,
   "metadata": {},
   "outputs": [
    {
     "name": "stdout",
     "output_type": "stream",
     "text": [
      "sneha's age is 22\n",
      "22\n",
      "sneha\n",
      "{'name': 'sneha', 'age': 22}\n"
     ]
    }
   ],
   "source": [
    "display(\"sneha\")"
   ]
  },
  {
   "cell_type": "markdown",
   "metadata": {},
   "source": [
    "## Global variable"
   ]
  },
  {
   "cell_type": "code",
   "execution_count": 16,
   "metadata": {
    "collapsed": true
   },
   "outputs": [
    {
     "name": "stdout",
     "output_type": "stream",
     "text": [
      "{'__name__': '__main__', '__doc__': 'Automatically created module for IPython interactive environment', '__package__': None, '__loader__': None, '__spec__': None, '__builtin__': <module 'builtins' (built-in)>, '__builtins__': <module 'builtins' (built-in)>, '_ih': ['', 'def display(name):\\n    age = 22\\n    print(f\"{name} age is {age}\")', 'display(\"shreya\")', 'def display(name):\\n    age = 22\\n    print(f\"{name}\\'s age is {age}\")', 'display(\"shreya\")', 'print(age)', 'def display(name):\\n    age = 22  # local variable\\n    print(f\"{name}\\'s age is {age}\")\\n    print(age)', 'display(\"sneha\")', 'print(name)', 'def display(name):\\n    age = 22  # local variable\\n    print(f\"{name}\\'s age is {age}\")\\n    print(age)\\n    print(name)', 'display(\"sneha\")', 'def display(name):\\n    age = 22  # local variable\\n    print(f\"{name}\\'s age is {age}\")\\n    print(age)\\n    print(name)\\n    print(locals)', 'display(\"sneha\")', 'def display(name):\\n    age = 22  # local variable\\n    print(f\"{name}\\'s age is {age}\")\\n    print(age)\\n    print(name)\\n    print(locals())', 'display(\"sneha\")', 'name = \"shreya\"\\ndef display():\\n    age = 23\\n    \\ndisplay()\\nprint(globals())', 'name = \"shreya\"\\ndef show():\\n    age = 23\\n    \\nshow()\\nprint(globals())'], '_oh': {}, '_dh': ['C:\\\\Users\\\\Dell\\\\OneDrive\\\\Desktop\\\\Python\\\\Functions\\\\Codeyug'], 'In': ['', 'def display(name):\\n    age = 22\\n    print(f\"{name} age is {age}\")', 'display(\"shreya\")', 'def display(name):\\n    age = 22\\n    print(f\"{name}\\'s age is {age}\")', 'display(\"shreya\")', 'print(age)', 'def display(name):\\n    age = 22  # local variable\\n    print(f\"{name}\\'s age is {age}\")\\n    print(age)', 'display(\"sneha\")', 'print(name)', 'def display(name):\\n    age = 22  # local variable\\n    print(f\"{name}\\'s age is {age}\")\\n    print(age)\\n    print(name)', 'display(\"sneha\")', 'def display(name):\\n    age = 22  # local variable\\n    print(f\"{name}\\'s age is {age}\")\\n    print(age)\\n    print(name)\\n    print(locals)', 'display(\"sneha\")', 'def display(name):\\n    age = 22  # local variable\\n    print(f\"{name}\\'s age is {age}\")\\n    print(age)\\n    print(name)\\n    print(locals())', 'display(\"sneha\")', 'name = \"shreya\"\\ndef display():\\n    age = 23\\n    \\ndisplay()\\nprint(globals())', 'name = \"shreya\"\\ndef show():\\n    age = 23\\n    \\nshow()\\nprint(globals())'], 'Out': {}, 'get_ipython': <bound method InteractiveShell.get_ipython of <ipykernel.zmqshell.ZMQInteractiveShell object at 0x000001D48CA2A9C8>>, 'exit': <IPython.core.autocall.ZMQExitAutocall object at 0x000001D48CA55808>, 'quit': <IPython.core.autocall.ZMQExitAutocall object at 0x000001D48CA55808>, '_': '', '__': '', '___': '', '_i': 'name = \"shreya\"\\ndef display():\\n    age = 23\\n    \\ndisplay()\\nprint(globals())', '_ii': 'display(\"sneha\")', '_iii': 'def display(name):\\n    age = 22  # local variable\\n    print(f\"{name}\\'s age is {age}\")\\n    print(age)\\n    print(name)\\n    print(locals())', '_i1': 'def display(name):\\n    age = 22\\n    print(f\"{name} age is {age}\")', 'display': <function display at 0x000001D48CA98EE8>, '_i2': 'display(\"shreya\")', '_i3': 'def display(name):\\n    age = 22\\n    print(f\"{name}\\'s age is {age}\")', '_i4': 'display(\"shreya\")', '_i5': 'print(age)', '_i6': 'def display(name):\\n    age = 22  # local variable\\n    print(f\"{name}\\'s age is {age}\")\\n    print(age)', '_i7': 'display(\"sneha\")', '_i8': 'print(name)', '_i9': 'def display(name):\\n    age = 22  # local variable\\n    print(f\"{name}\\'s age is {age}\")\\n    print(age)\\n    print(name)', '_i10': 'display(\"sneha\")', '_i11': 'def display(name):\\n    age = 22  # local variable\\n    print(f\"{name}\\'s age is {age}\")\\n    print(age)\\n    print(name)\\n    print(locals)', '_i12': 'display(\"sneha\")', '_i13': 'def display(name):\\n    age = 22  # local variable\\n    print(f\"{name}\\'s age is {age}\")\\n    print(age)\\n    print(name)\\n    print(locals())', '_i14': 'display(\"sneha\")', '_i15': 'name = \"shreya\"\\ndef display():\\n    age = 23\\n    \\ndisplay()\\nprint(globals())', 'name': 'shreya', '_i16': 'name = \"shreya\"\\ndef show():\\n    age = 23\\n    \\nshow()\\nprint(globals())', 'show': <function show at 0x000001D48CB51048>}\n"
     ]
    }
   ],
   "source": [
    "name = \"shreya\"\n",
    "def show():\n",
    "    age = 23\n",
    "    \n",
    "show()\n",
    "print(globals())"
   ]
  },
  {
   "cell_type": "code",
   "execution_count": 17,
   "metadata": {
    "collapsed": true
   },
   "outputs": [
    {
     "name": "stdout",
     "output_type": "stream",
     "text": [
      "{'__name__': '__main__', '__doc__': 'Automatically created module for IPython interactive environment', '__package__': None, '__loader__': None, '__spec__': None, '__builtin__': <module 'builtins' (built-in)>, '__builtins__': <module 'builtins' (built-in)>, '_ih': ['', 'def display(name):\\n    age = 22\\n    print(f\"{name} age is {age}\")', 'display(\"shreya\")', 'def display(name):\\n    age = 22\\n    print(f\"{name}\\'s age is {age}\")', 'display(\"shreya\")', 'print(age)', 'def display(name):\\n    age = 22  # local variable\\n    print(f\"{name}\\'s age is {age}\")\\n    print(age)', 'display(\"sneha\")', 'print(name)', 'def display(name):\\n    age = 22  # local variable\\n    print(f\"{name}\\'s age is {age}\")\\n    print(age)\\n    print(name)', 'display(\"sneha\")', 'def display(name):\\n    age = 22  # local variable\\n    print(f\"{name}\\'s age is {age}\")\\n    print(age)\\n    print(name)\\n    print(locals)', 'display(\"sneha\")', 'def display(name):\\n    age = 22  # local variable\\n    print(f\"{name}\\'s age is {age}\")\\n    print(age)\\n    print(name)\\n    print(locals())', 'display(\"sneha\")', 'name = \"shreya\"\\ndef display():\\n    age = 23\\n    \\ndisplay()\\nprint(globals())', 'name = \"shreya\"\\ndef show():\\n    age = 23\\n    \\nshow()\\nprint(globals())', 'name = \"shreya\"\\ndef show():\\n    age = 23\\n    print(globals())\\nshow()'], '_oh': {}, '_dh': ['C:\\\\Users\\\\Dell\\\\OneDrive\\\\Desktop\\\\Python\\\\Functions\\\\Codeyug'], 'In': ['', 'def display(name):\\n    age = 22\\n    print(f\"{name} age is {age}\")', 'display(\"shreya\")', 'def display(name):\\n    age = 22\\n    print(f\"{name}\\'s age is {age}\")', 'display(\"shreya\")', 'print(age)', 'def display(name):\\n    age = 22  # local variable\\n    print(f\"{name}\\'s age is {age}\")\\n    print(age)', 'display(\"sneha\")', 'print(name)', 'def display(name):\\n    age = 22  # local variable\\n    print(f\"{name}\\'s age is {age}\")\\n    print(age)\\n    print(name)', 'display(\"sneha\")', 'def display(name):\\n    age = 22  # local variable\\n    print(f\"{name}\\'s age is {age}\")\\n    print(age)\\n    print(name)\\n    print(locals)', 'display(\"sneha\")', 'def display(name):\\n    age = 22  # local variable\\n    print(f\"{name}\\'s age is {age}\")\\n    print(age)\\n    print(name)\\n    print(locals())', 'display(\"sneha\")', 'name = \"shreya\"\\ndef display():\\n    age = 23\\n    \\ndisplay()\\nprint(globals())', 'name = \"shreya\"\\ndef show():\\n    age = 23\\n    \\nshow()\\nprint(globals())', 'name = \"shreya\"\\ndef show():\\n    age = 23\\n    print(globals())\\nshow()'], 'Out': {}, 'get_ipython': <bound method InteractiveShell.get_ipython of <ipykernel.zmqshell.ZMQInteractiveShell object at 0x000001D48CA2A9C8>>, 'exit': <IPython.core.autocall.ZMQExitAutocall object at 0x000001D48CA55808>, 'quit': <IPython.core.autocall.ZMQExitAutocall object at 0x000001D48CA55808>, '_': '', '__': '', '___': '', '_i': 'name = \"shreya\"\\ndef show():\\n    age = 23\\n    \\nshow()\\nprint(globals())', '_ii': 'name = \"shreya\"\\ndef display():\\n    age = 23\\n    \\ndisplay()\\nprint(globals())', '_iii': 'display(\"sneha\")', '_i1': 'def display(name):\\n    age = 22\\n    print(f\"{name} age is {age}\")', 'display': <function display at 0x000001D48CA98EE8>, '_i2': 'display(\"shreya\")', '_i3': 'def display(name):\\n    age = 22\\n    print(f\"{name}\\'s age is {age}\")', '_i4': 'display(\"shreya\")', '_i5': 'print(age)', '_i6': 'def display(name):\\n    age = 22  # local variable\\n    print(f\"{name}\\'s age is {age}\")\\n    print(age)', '_i7': 'display(\"sneha\")', '_i8': 'print(name)', '_i9': 'def display(name):\\n    age = 22  # local variable\\n    print(f\"{name}\\'s age is {age}\")\\n    print(age)\\n    print(name)', '_i10': 'display(\"sneha\")', '_i11': 'def display(name):\\n    age = 22  # local variable\\n    print(f\"{name}\\'s age is {age}\")\\n    print(age)\\n    print(name)\\n    print(locals)', '_i12': 'display(\"sneha\")', '_i13': 'def display(name):\\n    age = 22  # local variable\\n    print(f\"{name}\\'s age is {age}\")\\n    print(age)\\n    print(name)\\n    print(locals())', '_i14': 'display(\"sneha\")', '_i15': 'name = \"shreya\"\\ndef display():\\n    age = 23\\n    \\ndisplay()\\nprint(globals())', 'name': 'shreya', '_i16': 'name = \"shreya\"\\ndef show():\\n    age = 23\\n    \\nshow()\\nprint(globals())', 'show': <function show at 0x000001D48CB51318>, '_i17': 'name = \"shreya\"\\ndef show():\\n    age = 23\\n    print(globals())\\nshow()'}\n"
     ]
    }
   ],
   "source": [
    "name = \"shreya\"\n",
    "def show():\n",
    "    age = 23\n",
    "    print(globals())\n",
    "show()\n"
   ]
  },
  {
   "cell_type": "code",
   "execution_count": 20,
   "metadata": {},
   "outputs": [
    {
     "name": "stdout",
     "output_type": "stream",
     "text": [
      "44\n"
     ]
    }
   ],
   "source": [
    "name = \"shreya\"\n",
    "def show():\n",
    "    age = 23\n",
    "    print(len(globals())) \n",
    "          \n",
    "show()"
   ]
  },
  {
   "cell_type": "code",
   "execution_count": 21,
   "metadata": {},
   "outputs": [
    {
     "ename": "UnboundLocalError",
     "evalue": "local variable 'num' referenced before assignment",
     "output_type": "error",
     "traceback": [
      "\u001b[1;31m---------------------------------------------------------------------------\u001b[0m",
      "\u001b[1;31mUnboundLocalError\u001b[0m                         Traceback (most recent call last)",
      "\u001b[1;32m<ipython-input-21-3a3c49a85ed5>\u001b[0m in \u001b[0;36m<module>\u001b[1;34m\u001b[0m\n\u001b[0;32m      5\u001b[0m     \u001b[0mprint\u001b[0m\u001b[1;33m(\u001b[0m\u001b[1;34m\"inside:\"\u001b[0m\u001b[1;33m,\u001b[0m \u001b[0mnum\u001b[0m\u001b[1;33m)\u001b[0m\u001b[1;33m\u001b[0m\u001b[1;33m\u001b[0m\u001b[0m\n\u001b[0;32m      6\u001b[0m \u001b[1;33m\u001b[0m\u001b[0m\n\u001b[1;32m----> 7\u001b[1;33m \u001b[0mdisplay\u001b[0m\u001b[1;33m(\u001b[0m\u001b[1;33m)\u001b[0m\u001b[1;33m\u001b[0m\u001b[1;33m\u001b[0m\u001b[0m\n\u001b[0m\u001b[0;32m      8\u001b[0m \u001b[0mprint\u001b[0m\u001b[1;33m(\u001b[0m\u001b[1;34m'outside:'\u001b[0m\u001b[1;33m,\u001b[0m \u001b[0mnum\u001b[0m\u001b[1;33m)\u001b[0m\u001b[1;33m\u001b[0m\u001b[1;33m\u001b[0m\u001b[0m\n",
      "\u001b[1;32m<ipython-input-21-3a3c49a85ed5>\u001b[0m in \u001b[0;36mdisplay\u001b[1;34m()\u001b[0m\n\u001b[0;32m      1\u001b[0m \u001b[0mnum\u001b[0m \u001b[1;33m=\u001b[0m \u001b[1;36m10\u001b[0m\u001b[1;33m\u001b[0m\u001b[1;33m\u001b[0m\u001b[0m\n\u001b[0;32m      2\u001b[0m \u001b[1;32mdef\u001b[0m \u001b[0mdisplay\u001b[0m\u001b[1;33m(\u001b[0m\u001b[1;33m)\u001b[0m\u001b[1;33m:\u001b[0m\u001b[1;33m\u001b[0m\u001b[1;33m\u001b[0m\u001b[0m\n\u001b[1;32m----> 3\u001b[1;33m     \u001b[0mnum\u001b[0m \u001b[1;33m=\u001b[0m \u001b[0mnum\u001b[0m \u001b[1;33m+\u001b[0m \u001b[1;36m5\u001b[0m\u001b[1;33m\u001b[0m\u001b[1;33m\u001b[0m\u001b[0m\n\u001b[0m\u001b[0;32m      4\u001b[0m     \u001b[0mnum\u001b[0m \u001b[1;33m=\u001b[0m \u001b[1;36m20\u001b[0m\u001b[1;33m\u001b[0m\u001b[1;33m\u001b[0m\u001b[0m\n\u001b[0;32m      5\u001b[0m     \u001b[0mprint\u001b[0m\u001b[1;33m(\u001b[0m\u001b[1;34m\"inside:\"\u001b[0m\u001b[1;33m,\u001b[0m \u001b[0mnum\u001b[0m\u001b[1;33m)\u001b[0m\u001b[1;33m\u001b[0m\u001b[1;33m\u001b[0m\u001b[0m\n",
      "\u001b[1;31mUnboundLocalError\u001b[0m: local variable 'num' referenced before assignment"
     ]
    }
   ],
   "source": [
    "num = 10\n",
    "def display():\n",
    "    num = num + 5\n",
    "    num = 20\n",
    "    print(\"inside:\", num)\n",
    "    \n",
    "display()\n",
    "print('outside:', num)"
   ]
  },
  {
   "cell_type": "code",
   "execution_count": 22,
   "metadata": {},
   "outputs": [
    {
     "name": "stdout",
     "output_type": "stream",
     "text": [
      "inside: 25\n",
      "outside: 10\n"
     ]
    }
   ],
   "source": [
    "num = 10\n",
    "def display():\n",
    "    \n",
    "    num = 20\n",
    "    num = num + 5\n",
    "    print(\"inside:\", num)\n",
    "    \n",
    "display()\n",
    "print('outside:', num)"
   ]
  },
  {
   "cell_type": "code",
   "execution_count": 36,
   "metadata": {},
   "outputs": [
    {
     "name": "stdout",
     "output_type": "stream",
     "text": [
      "inside: 15\n",
      "outside: 15\n"
     ]
    }
   ],
   "source": [
    "number = 10\n",
    "def display():\n",
    "    global number\n",
    "    number = number + 5\n",
    "    print(\"inside:\", number)\n",
    "    \n",
    "display()\n",
    "print('outside:', number)"
   ]
  },
  {
   "cell_type": "code",
   "execution_count": null,
   "metadata": {},
   "outputs": [],
   "source": []
  },
  {
   "cell_type": "code",
   "execution_count": null,
   "metadata": {},
   "outputs": [],
   "source": []
  },
  {
   "cell_type": "code",
   "execution_count": null,
   "metadata": {},
   "outputs": [],
   "source": []
  },
  {
   "cell_type": "code",
   "execution_count": null,
   "metadata": {},
   "outputs": [],
   "source": []
  },
  {
   "cell_type": "code",
   "execution_count": null,
   "metadata": {},
   "outputs": [],
   "source": []
  }
 ],
 "metadata": {
  "kernelspec": {
   "display_name": "Python 3",
   "language": "python",
   "name": "python3"
  },
  "language_info": {
   "codemirror_mode": {
    "name": "ipython",
    "version": 3
   },
   "file_extension": ".py",
   "mimetype": "text/x-python",
   "name": "python",
   "nbconvert_exporter": "python",
   "pygments_lexer": "ipython3",
   "version": "3.7.6"
  }
 },
 "nbformat": 4,
 "nbformat_minor": 4
}
