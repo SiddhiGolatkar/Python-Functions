{
 "cells": [
  {
   "cell_type": "markdown",
   "metadata": {},
   "source": [
    "### what are names?\n",
    "\n",
    "- names are identifiers or variables\n",
    "- namespace is collection of variables"
   ]
  },
  {
   "cell_type": "markdown",
   "metadata": {},
   "source": [
    "### Types of Namespaces:\n",
    "\n",
    "- Built-in namaspace\n",
    "- module level/global namesspace\n",
    "- local namespace\n",
    "- enclosed namespace"
   ]
  },
  {
   "cell_type": "code",
   "execution_count": 3,
   "metadata": {},
   "outputs": [
    {
     "data": {
      "text/plain": [
       "['In',\n",
       " 'Out',\n",
       " '_',\n",
       " '__',\n",
       " '___',\n",
       " '__builtin__',\n",
       " '__builtins__',\n",
       " '__doc__',\n",
       " '__loader__',\n",
       " '__name__',\n",
       " '__package__',\n",
       " '__spec__',\n",
       " '_dh',\n",
       " '_i',\n",
       " '_i1',\n",
       " '_i2',\n",
       " '_i3',\n",
       " '_ih',\n",
       " '_ii',\n",
       " '_iii',\n",
       " '_oh',\n",
       " 'exit',\n",
       " 'get_ipython',\n",
       " 'quit']"
      ]
     },
     "execution_count": 3,
     "metadata": {},
     "output_type": "execute_result"
    }
   ],
   "source": [
    "dir()"
   ]
  },
  {
   "cell_type": "markdown",
   "metadata": {},
   "source": [
    "### LEGB rule\n",
    "\n",
    "- Local\n",
    "- Enclosed / non-local\n",
    "- Global\n",
    "- Built-in"
   ]
  },
  {
   "cell_type": "code",
   "execution_count": 15,
   "metadata": {},
   "outputs": [],
   "source": [
    "x= 100  # global variable\n",
    "\n",
    "def outer():\n",
    "    global x\n",
    "    x = x+20\n",
    "    print(x)\n",
    "    x = 20 # local variable\n",
    "    print(x)"
   ]
  },
  {
   "cell_type": "code",
   "execution_count": 13,
   "metadata": {},
   "outputs": [
    {
     "name": "stdout",
     "output_type": "stream",
     "text": [
      "100\n"
     ]
    }
   ],
   "source": [
    "print(x)"
   ]
  },
  {
   "cell_type": "code",
   "execution_count": 16,
   "metadata": {},
   "outputs": [
    {
     "name": "stdout",
     "output_type": "stream",
     "text": [
      "120\n",
      "20\n"
     ]
    }
   ],
   "source": [
    "outer()"
   ]
  },
  {
   "cell_type": "code",
   "execution_count": 1,
   "metadata": {},
   "outputs": [
    {
     "ename": "UnboundLocalError",
     "evalue": "local variable 'x' referenced before assignment",
     "output_type": "error",
     "traceback": [
      "\u001b[1;31m---------------------------------------------------------------------------\u001b[0m",
      "\u001b[1;31mUnboundLocalError\u001b[0m                         Traceback (most recent call last)",
      "\u001b[1;32m<ipython-input-1-37358ebc261d>\u001b[0m in \u001b[0;36m<module>\u001b[1;34m\u001b[0m\n\u001b[0;32m      9\u001b[0m     \u001b[0minner\u001b[0m\u001b[1;33m(\u001b[0m\u001b[1;33m)\u001b[0m\u001b[1;33m\u001b[0m\u001b[1;33m\u001b[0m\u001b[0m\n\u001b[0;32m     10\u001b[0m \u001b[1;33m\u001b[0m\u001b[0m\n\u001b[1;32m---> 11\u001b[1;33m \u001b[0mouter\u001b[0m\u001b[1;33m(\u001b[0m\u001b[1;33m)\u001b[0m\u001b[1;33m\u001b[0m\u001b[1;33m\u001b[0m\u001b[0m\n\u001b[0m",
      "\u001b[1;32m<ipython-input-1-37358ebc261d>\u001b[0m in \u001b[0;36mouter\u001b[1;34m()\u001b[0m\n\u001b[0;32m      7\u001b[0m         \u001b[0mx\u001b[0m \u001b[1;33m=\u001b[0m \u001b[1;36m200\u001b[0m \u001b[1;31m# local variable\u001b[0m\u001b[1;33m\u001b[0m\u001b[1;33m\u001b[0m\u001b[0m\n\u001b[0;32m      8\u001b[0m         \u001b[0mprint\u001b[0m\u001b[1;33m(\u001b[0m\u001b[0mx\u001b[0m\u001b[1;33m)\u001b[0m\u001b[1;33m\u001b[0m\u001b[1;33m\u001b[0m\u001b[0m\n\u001b[1;32m----> 9\u001b[1;33m     \u001b[0minner\u001b[0m\u001b[1;33m(\u001b[0m\u001b[1;33m)\u001b[0m\u001b[1;33m\u001b[0m\u001b[1;33m\u001b[0m\u001b[0m\n\u001b[0m\u001b[0;32m     10\u001b[0m \u001b[1;33m\u001b[0m\u001b[0m\n\u001b[0;32m     11\u001b[0m \u001b[0mouter\u001b[0m\u001b[1;33m(\u001b[0m\u001b[1;33m)\u001b[0m\u001b[1;33m\u001b[0m\u001b[1;33m\u001b[0m\u001b[0m\n",
      "\u001b[1;32m<ipython-input-1-37358ebc261d>\u001b[0m in \u001b[0;36minner\u001b[1;34m()\u001b[0m\n\u001b[0;32m      4\u001b[0m \u001b[1;33m\u001b[0m\u001b[0m\n\u001b[0;32m      5\u001b[0m     \u001b[1;32mdef\u001b[0m \u001b[0minner\u001b[0m\u001b[1;33m(\u001b[0m\u001b[1;33m)\u001b[0m\u001b[1;33m:\u001b[0m\u001b[1;33m\u001b[0m\u001b[1;33m\u001b[0m\u001b[0m\n\u001b[1;32m----> 6\u001b[1;33m         \u001b[0mx\u001b[0m \u001b[1;33m=\u001b[0m \u001b[0mx\u001b[0m\u001b[1;33m+\u001b[0m\u001b[1;36m20\u001b[0m\u001b[1;33m\u001b[0m\u001b[1;33m\u001b[0m\u001b[0m\n\u001b[0m\u001b[0;32m      7\u001b[0m         \u001b[0mx\u001b[0m \u001b[1;33m=\u001b[0m \u001b[1;36m200\u001b[0m \u001b[1;31m# local variable\u001b[0m\u001b[1;33m\u001b[0m\u001b[1;33m\u001b[0m\u001b[0m\n\u001b[0;32m      8\u001b[0m         \u001b[0mprint\u001b[0m\u001b[1;33m(\u001b[0m\u001b[0mx\u001b[0m\u001b[1;33m)\u001b[0m\u001b[1;33m\u001b[0m\u001b[1;33m\u001b[0m\u001b[0m\n",
      "\u001b[1;31mUnboundLocalError\u001b[0m: local variable 'x' referenced before assignment"
     ]
    }
   ],
   "source": [
    "x = 100 # global variable\n",
    "def outer():\n",
    "    x = 20  # non-local variable\n",
    "    \n",
    "    def inner():\n",
    "        x = x+20\n",
    "        x = 200 # local variable\n",
    "        print(x)\n",
    "    inner()\n",
    "\n",
    "outer()"
   ]
  },
  {
   "cell_type": "code",
   "execution_count": 3,
   "metadata": {},
   "outputs": [
    {
     "name": "stdout",
     "output_type": "stream",
     "text": [
      "40\n",
      "200\n"
     ]
    }
   ],
   "source": [
    "x = 100 # global variable\n",
    "def outer():\n",
    "    x = 20  # non-local variable\n",
    "    \n",
    "    def inner():\n",
    "        nonlocal x\n",
    "        x = x+20\n",
    "        print(x)\n",
    "        x = 200 # local variable\n",
    "        print(x)\n",
    "    inner()\n",
    "\n",
    "outer()"
   ]
  },
  {
   "cell_type": "code",
   "execution_count": 4,
   "metadata": {},
   "outputs": [
    {
     "name": "stdout",
     "output_type": "stream",
     "text": [
      "10\n"
     ]
    }
   ],
   "source": [
    "x = 100  # global variable\n",
    "\n",
    "def outer():\n",
    "    x = 10  #non-local variable\n",
    "    def inner():\n",
    "        x = 1000 #local variable\n",
    "    inner()\n",
    "    print(x)\n",
    "outer()"
   ]
  },
  {
   "cell_type": "code",
   "execution_count": 5,
   "metadata": {},
   "outputs": [
    {
     "name": "stdout",
     "output_type": "stream",
     "text": [
      "100\n"
     ]
    }
   ],
   "source": [
    "x = 100  # global variable\n",
    "\n",
    "def outer():\n",
    "    x = 10  #non-local variable\n",
    "    def inner():\n",
    "        x = 1000 #local variable\n",
    "    inner()\n",
    "outer()\n",
    "print(x)\n"
   ]
  },
  {
   "cell_type": "code",
   "execution_count": 6,
   "metadata": {},
   "outputs": [
    {
     "name": "stdout",
     "output_type": "stream",
     "text": [
      "1000\n"
     ]
    }
   ],
   "source": [
    "x = 100  # global variable\n",
    "\n",
    "def outer():\n",
    "    x = 10  #non-local variable\n",
    "    def inner():\n",
    "        x = 1000 #local variable\n",
    "        print(x)\n",
    "    inner()\n",
    "outer()\n"
   ]
  },
  {
   "cell_type": "code",
   "execution_count": 7,
   "metadata": {},
   "outputs": [
    {
     "name": "stdout",
     "output_type": "stream",
     "text": [
      "10\n"
     ]
    }
   ],
   "source": [
    "x = 100  # global variable\n",
    "\n",
    "def outer():\n",
    "    x = 10  #non-local variable\n",
    "    def inner():\n",
    "        # x = 1000 #local variable\n",
    "        print(x)\n",
    "    inner()\n",
    "outer()\n"
   ]
  },
  {
   "cell_type": "code",
   "execution_count": 8,
   "metadata": {},
   "outputs": [
    {
     "name": "stdout",
     "output_type": "stream",
     "text": [
      "100\n"
     ]
    }
   ],
   "source": [
    "x = 100  # global variable\n",
    "\n",
    "def outer():\n",
    "    # x = 10  #non-local variable\n",
    "    def inner():\n",
    "        # x = 1000 #local variable\n",
    "        print(x)\n",
    "    inner()\n",
    "outer()\n"
   ]
  },
  {
   "cell_type": "code",
   "execution_count": 2,
   "metadata": {},
   "outputs": [
    {
     "ename": "NameError",
     "evalue": "name 'x' is not defined",
     "output_type": "error",
     "traceback": [
      "\u001b[1;31m---------------------------------------------------------------------------\u001b[0m",
      "\u001b[1;31mNameError\u001b[0m                                 Traceback (most recent call last)",
      "\u001b[1;32m<ipython-input-2-8896ad3afca8>\u001b[0m in \u001b[0;36m<module>\u001b[1;34m\u001b[0m\n\u001b[0;32m      7\u001b[0m         \u001b[0mprint\u001b[0m\u001b[1;33m(\u001b[0m\u001b[0mx\u001b[0m\u001b[1;33m)\u001b[0m\u001b[1;33m\u001b[0m\u001b[1;33m\u001b[0m\u001b[0m\n\u001b[0;32m      8\u001b[0m     \u001b[0minner\u001b[0m\u001b[1;33m(\u001b[0m\u001b[1;33m)\u001b[0m\u001b[1;33m\u001b[0m\u001b[1;33m\u001b[0m\u001b[0m\n\u001b[1;32m----> 9\u001b[1;33m \u001b[0mouter\u001b[0m\u001b[1;33m(\u001b[0m\u001b[1;33m)\u001b[0m\u001b[1;33m\u001b[0m\u001b[1;33m\u001b[0m\u001b[0m\n\u001b[0m",
      "\u001b[1;32m<ipython-input-2-8896ad3afca8>\u001b[0m in \u001b[0;36mouter\u001b[1;34m()\u001b[0m\n\u001b[0;32m      6\u001b[0m         \u001b[1;31m# x = 1000 #local variable\u001b[0m\u001b[1;33m\u001b[0m\u001b[1;33m\u001b[0m\u001b[1;33m\u001b[0m\u001b[0m\n\u001b[0;32m      7\u001b[0m         \u001b[0mprint\u001b[0m\u001b[1;33m(\u001b[0m\u001b[0mx\u001b[0m\u001b[1;33m)\u001b[0m\u001b[1;33m\u001b[0m\u001b[1;33m\u001b[0m\u001b[0m\n\u001b[1;32m----> 8\u001b[1;33m     \u001b[0minner\u001b[0m\u001b[1;33m(\u001b[0m\u001b[1;33m)\u001b[0m\u001b[1;33m\u001b[0m\u001b[1;33m\u001b[0m\u001b[0m\n\u001b[0m\u001b[0;32m      9\u001b[0m \u001b[0mouter\u001b[0m\u001b[1;33m(\u001b[0m\u001b[1;33m)\u001b[0m\u001b[1;33m\u001b[0m\u001b[1;33m\u001b[0m\u001b[0m\n",
      "\u001b[1;32m<ipython-input-2-8896ad3afca8>\u001b[0m in \u001b[0;36minner\u001b[1;34m()\u001b[0m\n\u001b[0;32m      5\u001b[0m     \u001b[1;32mdef\u001b[0m \u001b[0minner\u001b[0m\u001b[1;33m(\u001b[0m\u001b[1;33m)\u001b[0m\u001b[1;33m:\u001b[0m\u001b[1;33m\u001b[0m\u001b[1;33m\u001b[0m\u001b[0m\n\u001b[0;32m      6\u001b[0m         \u001b[1;31m# x = 1000 #local variable\u001b[0m\u001b[1;33m\u001b[0m\u001b[1;33m\u001b[0m\u001b[1;33m\u001b[0m\u001b[0m\n\u001b[1;32m----> 7\u001b[1;33m         \u001b[0mprint\u001b[0m\u001b[1;33m(\u001b[0m\u001b[0mx\u001b[0m\u001b[1;33m)\u001b[0m\u001b[1;33m\u001b[0m\u001b[1;33m\u001b[0m\u001b[0m\n\u001b[0m\u001b[0;32m      8\u001b[0m     \u001b[0minner\u001b[0m\u001b[1;33m(\u001b[0m\u001b[1;33m)\u001b[0m\u001b[1;33m\u001b[0m\u001b[1;33m\u001b[0m\u001b[0m\n\u001b[0;32m      9\u001b[0m \u001b[0mouter\u001b[0m\u001b[1;33m(\u001b[0m\u001b[1;33m)\u001b[0m\u001b[1;33m\u001b[0m\u001b[1;33m\u001b[0m\u001b[0m\n",
      "\u001b[1;31mNameError\u001b[0m: name 'x' is not defined"
     ]
    }
   ],
   "source": [
    "# x = 100  # global variable\n",
    "\n",
    "def outer():\n",
    "    # x = 10  #non-local variable\n",
    "    def inner():\n",
    "        # x = 1000 #local variable\n",
    "        print(x)\n",
    "    inner()\n",
    "outer()\n"
   ]
  },
  {
   "cell_type": "code",
   "execution_count": 4,
   "metadata": {},
   "outputs": [
    {
     "ename": "NameError",
     "evalue": "name 'x' is not defined",
     "output_type": "error",
     "traceback": [
      "\u001b[1;31m---------------------------------------------------------------------------\u001b[0m",
      "\u001b[1;31mNameError\u001b[0m                                 Traceback (most recent call last)",
      "\u001b[1;32m<ipython-input-4-60c5654939cd>\u001b[0m in \u001b[0;36m<module>\u001b[1;34m\u001b[0m\n\u001b[0;32m      8\u001b[0m     \u001b[0minner\u001b[0m\u001b[1;33m(\u001b[0m\u001b[1;33m)\u001b[0m\u001b[1;33m\u001b[0m\u001b[1;33m\u001b[0m\u001b[0m\n\u001b[0;32m      9\u001b[0m \u001b[0mouter\u001b[0m\u001b[1;33m(\u001b[0m\u001b[1;33m)\u001b[0m\u001b[1;33m\u001b[0m\u001b[1;33m\u001b[0m\u001b[0m\n\u001b[1;32m---> 10\u001b[1;33m \u001b[0mprint\u001b[0m\u001b[1;33m(\u001b[0m\u001b[0mx\u001b[0m\u001b[1;33m)\u001b[0m\u001b[1;33m\u001b[0m\u001b[1;33m\u001b[0m\u001b[0m\n\u001b[0m",
      "\u001b[1;31mNameError\u001b[0m: name 'x' is not defined"
     ]
    }
   ],
   "source": [
    "# x = 100  # global variable\n",
    "\n",
    "def outer():\n",
    "    x = 10  #non-local variable\n",
    "    def inner():\n",
    "        x = 1000 #local variable\n",
    "        # print(x)\n",
    "    inner()\n",
    "outer()\n",
    "print(x)"
   ]
  },
  {
   "cell_type": "markdown",
   "metadata": {},
   "source": [
    "### Closures"
   ]
  },
  {
   "cell_type": "code",
   "execution_count": 5,
   "metadata": {},
   "outputs": [],
   "source": [
    "def outer():\n",
    "    print(\"hello\")"
   ]
  },
  {
   "cell_type": "code",
   "execution_count": 6,
   "metadata": {},
   "outputs": [
    {
     "data": {
      "text/plain": [
       "<function __main__.outer()>"
      ]
     },
     "execution_count": 6,
     "metadata": {},
     "output_type": "execute_result"
    }
   ],
   "source": [
    "outer"
   ]
  },
  {
   "cell_type": "code",
   "execution_count": 7,
   "metadata": {},
   "outputs": [
    {
     "data": {
      "text/plain": [
       "function"
      ]
     },
     "execution_count": 7,
     "metadata": {},
     "output_type": "execute_result"
    }
   ],
   "source": [
    "type(outer)"
   ]
  },
  {
   "cell_type": "code",
   "execution_count": 14,
   "metadata": {},
   "outputs": [],
   "source": [
    "def outer():\n",
    "    print(\"hello\")\n",
    "    \n",
    "    # nested function\n",
    "    def inner():\n",
    "        print(\"bye\")\n",
    "    inner()"
   ]
  },
  {
   "cell_type": "code",
   "execution_count": 15,
   "metadata": {},
   "outputs": [
    {
     "name": "stdout",
     "output_type": "stream",
     "text": [
      "hello\n",
      "bye\n"
     ]
    }
   ],
   "source": [
    "outer()"
   ]
  },
  {
   "cell_type": "code",
   "execution_count": 16,
   "metadata": {},
   "outputs": [
    {
     "ename": "NameError",
     "evalue": "name 'inner' is not defined",
     "output_type": "error",
     "traceback": [
      "\u001b[1;31m---------------------------------------------------------------------------\u001b[0m",
      "\u001b[1;31mNameError\u001b[0m                                 Traceback (most recent call last)",
      "\u001b[1;32m<ipython-input-16-bc10f1654870>\u001b[0m in \u001b[0;36m<module>\u001b[1;34m\u001b[0m\n\u001b[1;32m----> 1\u001b[1;33m \u001b[0minner\u001b[0m\u001b[1;33m(\u001b[0m\u001b[1;33m)\u001b[0m\u001b[1;33m\u001b[0m\u001b[1;33m\u001b[0m\u001b[0m\n\u001b[0m",
      "\u001b[1;31mNameError\u001b[0m: name 'inner' is not defined"
     ]
    }
   ],
   "source": [
    "inner()"
   ]
  },
  {
   "cell_type": "code",
   "execution_count": 17,
   "metadata": {},
   "outputs": [],
   "source": [
    "# aliasing function\n",
    "\n",
    "new = outer"
   ]
  },
  {
   "cell_type": "code",
   "execution_count": 18,
   "metadata": {},
   "outputs": [
    {
     "name": "stdout",
     "output_type": "stream",
     "text": [
      "hello\n",
      "bye\n"
     ]
    }
   ],
   "source": [
    "new()"
   ]
  },
  {
   "cell_type": "code",
   "execution_count": 19,
   "metadata": {},
   "outputs": [],
   "source": [
    "def outer():\n",
    "    def inner():\n",
    "        x = 200\n",
    "        return x\n",
    "    inner()\n",
    "outer()"
   ]
  },
  {
   "cell_type": "code",
   "execution_count": 20,
   "metadata": {},
   "outputs": [
    {
     "data": {
      "text/plain": [
       "200"
      ]
     },
     "execution_count": 20,
     "metadata": {},
     "output_type": "execute_result"
    }
   ],
   "source": [
    "def outer():\n",
    "    def inner():\n",
    "        x = 200\n",
    "        return x\n",
    "    return inner()\n",
    "outer()"
   ]
  },
  {
   "cell_type": "code",
   "execution_count": 21,
   "metadata": {},
   "outputs": [
    {
     "data": {
      "text/plain": [
       "<function __main__.outer.<locals>.inner()>"
      ]
     },
     "execution_count": 21,
     "metadata": {},
     "output_type": "execute_result"
    }
   ],
   "source": [
    "def outer():\n",
    "    def inner():\n",
    "        x = 200\n",
    "        return x\n",
    "    return inner\n",
    "outer()"
   ]
  },
  {
   "cell_type": "code",
   "execution_count": 25,
   "metadata": {},
   "outputs": [],
   "source": [
    "new = outer()"
   ]
  },
  {
   "cell_type": "code",
   "execution_count": 26,
   "metadata": {},
   "outputs": [
    {
     "data": {
      "text/plain": [
       "200"
      ]
     },
     "execution_count": 26,
     "metadata": {},
     "output_type": "execute_result"
    }
   ],
   "source": [
    "new()"
   ]
  },
  {
   "cell_type": "code",
   "execution_count": 27,
   "metadata": {},
   "outputs": [
    {
     "name": "stdout",
     "output_type": "stream",
     "text": [
      "200\n"
     ]
    }
   ],
   "source": [
    "print(new())"
   ]
  },
  {
   "cell_type": "code",
   "execution_count": 28,
   "metadata": {},
   "outputs": [],
   "source": [
    "inner = outer()"
   ]
  },
  {
   "cell_type": "code",
   "execution_count": 29,
   "metadata": {},
   "outputs": [
    {
     "data": {
      "text/plain": [
       "200"
      ]
     },
     "execution_count": 29,
     "metadata": {},
     "output_type": "execute_result"
    }
   ],
   "source": [
    "inner()"
   ]
  },
  {
   "cell_type": "code",
   "execution_count": 30,
   "metadata": {},
   "outputs": [
    {
     "data": {
      "text/plain": [
       "<function __main__.outer.<locals>.inner()>"
      ]
     },
     "execution_count": 30,
     "metadata": {},
     "output_type": "execute_result"
    }
   ],
   "source": [
    "def outer():\n",
    "    \n",
    "    def inner():\n",
    "        print(\"hello\")\n",
    "    return inner\n",
    "\n",
    "outer()"
   ]
  },
  {
   "cell_type": "code",
   "execution_count": 31,
   "metadata": {},
   "outputs": [
    {
     "name": "stdout",
     "output_type": "stream",
     "text": [
      "hello\n"
     ]
    }
   ],
   "source": [
    "# closures\n",
    "\n",
    "def outer():\n",
    "    \n",
    "    def inner():\n",
    "        print(\"hello\")\n",
    "    return inner\n",
    "\n",
    "inner = outer()\n",
    "inner()"
   ]
  },
  {
   "cell_type": "markdown",
   "metadata": {},
   "source": [
    "### globals"
   ]
  },
  {
   "cell_type": "code",
   "execution_count": 33,
   "metadata": {
    "collapsed": true
   },
   "outputs": [
    {
     "data": {
      "text/plain": [
       "{'__name__': '__main__',\n",
       " '__doc__': 'Automatically created module for IPython interactive environment',\n",
       " '__package__': None,\n",
       " '__loader__': None,\n",
       " '__spec__': None,\n",
       " '__builtin__': <module 'builtins' (built-in)>,\n",
       " '__builtins__': <module 'builtins' (built-in)>,\n",
       " '_ih': ['',\n",
       "  '# x = 100  # global variable\\n\\ndef outer():\\n    # x = 10  #non-local variable\\n    def inner():\\n        # x = 1000 #local variable\\n        print(x)\\n    inner()\\nouter()\\nprint(x)',\n",
       "  '# x = 100  # global variable\\n\\ndef outer():\\n    # x = 10  #non-local variable\\n    def inner():\\n        # x = 1000 #local variable\\n        print(x)\\n    inner()\\nouter()',\n",
       "  '# x = 100  # global variable\\n\\ndef outer():\\n    x = 10  #non-local variable\\n    def inner():\\n        x = 1000 #local variable\\n        print(x)\\n    inner()\\nouter()\\nprint(x)',\n",
       "  '# x = 100  # global variable\\n\\ndef outer():\\n    x = 10  #non-local variable\\n    def inner():\\n        x = 1000 #local variable\\n        # print(x)\\n    inner()\\nouter()\\nprint(x)',\n",
       "  'def outer():\\n    print(hello)',\n",
       "  'outer',\n",
       "  'type(outer)',\n",
       "  'def outer():\\n    print(hello)\\n    def inner():\\n        print(bye)',\n",
       "  'outer()',\n",
       "  'def outer():\\n    print(\"hello\")\\n    def inner():\\n        print(bye)',\n",
       "  'outer()',\n",
       "  'def outer():\\n    print(\"hello\")\\n    def inner():\\n        print(bye)\\n    inner()',\n",
       "  'outer()',\n",
       "  'def outer():\\n    print(\"hello\")\\n    def inner():\\n        print(\"bye\")\\n    inner()',\n",
       "  'outer()',\n",
       "  'inner()',\n",
       "  'new = outer',\n",
       "  'new()',\n",
       "  'def outer():\\n    def inner():\\n        x = 200\\n        return x\\n    inner()\\nouter()',\n",
       "  'def outer():\\n    def inner():\\n        x = 200\\n        return x\\n    return inner()\\nouter()',\n",
       "  'def outer():\\n    def inner():\\n        x = 200\\n        return x\\n    return inner\\nouter()',\n",
       "  'new = outer',\n",
       "  'new()',\n",
       "  'print(new())',\n",
       "  'new = outer()',\n",
       "  'new()',\n",
       "  'print(new())',\n",
       "  'inner = outer()',\n",
       "  'inner()',\n",
       "  'def outer():\\n    \\n    def inner():\\n        print(\"hello\")\\n    return inner\\n\\nouter()',\n",
       "  'def outer():\\n    \\n    def inner():\\n        print(\"hello\")\\n    return inner\\n\\ninner = outer()\\ninner()',\n",
       "  'a = 10\\ndef demo():\\n    print(\"hello\")',\n",
       "  'a = 10\\ndef demo():\\n    print(\"hello\")\\n    \\nglobals()'],\n",
       " '_oh': {6: <function __main__.outer()>,\n",
       "  7: function,\n",
       "  20: 200,\n",
       "  21: <function __main__.outer.<locals>.inner()>,\n",
       "  23: <function __main__.outer.<locals>.inner()>,\n",
       "  26: 200,\n",
       "  29: 200,\n",
       "  30: <function __main__.outer.<locals>.inner()>},\n",
       " '_dh': ['C:\\\\Users\\\\Dell\\\\OneDrive\\\\Desktop\\\\Python\\\\Functions\\\\Codeyug'],\n",
       " 'In': ['',\n",
       "  '# x = 100  # global variable\\n\\ndef outer():\\n    # x = 10  #non-local variable\\n    def inner():\\n        # x = 1000 #local variable\\n        print(x)\\n    inner()\\nouter()\\nprint(x)',\n",
       "  '# x = 100  # global variable\\n\\ndef outer():\\n    # x = 10  #non-local variable\\n    def inner():\\n        # x = 1000 #local variable\\n        print(x)\\n    inner()\\nouter()',\n",
       "  '# x = 100  # global variable\\n\\ndef outer():\\n    x = 10  #non-local variable\\n    def inner():\\n        x = 1000 #local variable\\n        print(x)\\n    inner()\\nouter()\\nprint(x)',\n",
       "  '# x = 100  # global variable\\n\\ndef outer():\\n    x = 10  #non-local variable\\n    def inner():\\n        x = 1000 #local variable\\n        # print(x)\\n    inner()\\nouter()\\nprint(x)',\n",
       "  'def outer():\\n    print(hello)',\n",
       "  'outer',\n",
       "  'type(outer)',\n",
       "  'def outer():\\n    print(hello)\\n    def inner():\\n        print(bye)',\n",
       "  'outer()',\n",
       "  'def outer():\\n    print(\"hello\")\\n    def inner():\\n        print(bye)',\n",
       "  'outer()',\n",
       "  'def outer():\\n    print(\"hello\")\\n    def inner():\\n        print(bye)\\n    inner()',\n",
       "  'outer()',\n",
       "  'def outer():\\n    print(\"hello\")\\n    def inner():\\n        print(\"bye\")\\n    inner()',\n",
       "  'outer()',\n",
       "  'inner()',\n",
       "  'new = outer',\n",
       "  'new()',\n",
       "  'def outer():\\n    def inner():\\n        x = 200\\n        return x\\n    inner()\\nouter()',\n",
       "  'def outer():\\n    def inner():\\n        x = 200\\n        return x\\n    return inner()\\nouter()',\n",
       "  'def outer():\\n    def inner():\\n        x = 200\\n        return x\\n    return inner\\nouter()',\n",
       "  'new = outer',\n",
       "  'new()',\n",
       "  'print(new())',\n",
       "  'new = outer()',\n",
       "  'new()',\n",
       "  'print(new())',\n",
       "  'inner = outer()',\n",
       "  'inner()',\n",
       "  'def outer():\\n    \\n    def inner():\\n        print(\"hello\")\\n    return inner\\n\\nouter()',\n",
       "  'def outer():\\n    \\n    def inner():\\n        print(\"hello\")\\n    return inner\\n\\ninner = outer()\\ninner()',\n",
       "  'a = 10\\ndef demo():\\n    print(\"hello\")',\n",
       "  'a = 10\\ndef demo():\\n    print(\"hello\")\\n    \\nglobals()'],\n",
       " 'Out': {6: <function __main__.outer()>,\n",
       "  7: function,\n",
       "  20: 200,\n",
       "  21: <function __main__.outer.<locals>.inner()>,\n",
       "  23: <function __main__.outer.<locals>.inner()>,\n",
       "  26: 200,\n",
       "  29: 200,\n",
       "  30: <function __main__.outer.<locals>.inner()>},\n",
       " 'get_ipython': <bound method InteractiveShell.get_ipython of <ipykernel.zmqshell.ZMQInteractiveShell object at 0x000002195F638A08>>,\n",
       " 'exit': <IPython.core.autocall.ZMQExitAutocall at 0x219601c6a88>,\n",
       " 'quit': <IPython.core.autocall.ZMQExitAutocall at 0x219601c6a88>,\n",
       " '_': <function __main__.outer.<locals>.inner()>,\n",
       " '__': 200,\n",
       " '___': 200,\n",
       " '_i': 'a = 10\\ndef demo():\\n    print(\"hello\")',\n",
       " '_ii': 'def outer():\\n    \\n    def inner():\\n        print(\"hello\")\\n    return inner\\n\\ninner = outer()\\ninner()',\n",
       " '_iii': 'def outer():\\n    \\n    def inner():\\n        print(\"hello\")\\n    return inner\\n\\nouter()',\n",
       " '_i1': '# x = 100  # global variable\\n\\ndef outer():\\n    # x = 10  #non-local variable\\n    def inner():\\n        # x = 1000 #local variable\\n        print(x)\\n    inner()\\nouter()\\nprint(x)',\n",
       " 'outer': <function __main__.outer()>,\n",
       " '_i2': '# x = 100  # global variable\\n\\ndef outer():\\n    # x = 10  #non-local variable\\n    def inner():\\n        # x = 1000 #local variable\\n        print(x)\\n    inner()\\nouter()',\n",
       " '_i3': '# x = 100  # global variable\\n\\ndef outer():\\n    x = 10  #non-local variable\\n    def inner():\\n        x = 1000 #local variable\\n        print(x)\\n    inner()\\nouter()\\nprint(x)',\n",
       " '_i4': '# x = 100  # global variable\\n\\ndef outer():\\n    x = 10  #non-local variable\\n    def inner():\\n        x = 1000 #local variable\\n        # print(x)\\n    inner()\\nouter()\\nprint(x)',\n",
       " '_i5': 'def outer():\\n    print(hello)',\n",
       " '_i6': 'outer',\n",
       " '_6': <function __main__.outer()>,\n",
       " '_i7': 'type(outer)',\n",
       " '_7': function,\n",
       " '_i8': 'def outer():\\n    print(hello)\\n    def inner():\\n        print(bye)',\n",
       " '_i9': 'outer()',\n",
       " '_i10': 'def outer():\\n    print(\"hello\")\\n    def inner():\\n        print(bye)',\n",
       " '_i11': 'outer()',\n",
       " '_i12': 'def outer():\\n    print(\"hello\")\\n    def inner():\\n        print(bye)\\n    inner()',\n",
       " '_i13': 'outer()',\n",
       " '_i14': 'def outer():\\n    print(\"hello\")\\n    def inner():\\n        print(\"bye\")\\n    inner()',\n",
       " '_i15': 'outer()',\n",
       " '_i16': 'inner()',\n",
       " '_i17': 'new = outer',\n",
       " 'new': <function __main__.outer.<locals>.inner()>,\n",
       " '_i18': 'new()',\n",
       " '_i19': 'def outer():\\n    def inner():\\n        x = 200\\n        return x\\n    inner()\\nouter()',\n",
       " '_i20': 'def outer():\\n    def inner():\\n        x = 200\\n        return x\\n    return inner()\\nouter()',\n",
       " '_20': 200,\n",
       " '_i21': 'def outer():\\n    def inner():\\n        x = 200\\n        return x\\n    return inner\\nouter()',\n",
       " '_21': <function __main__.outer.<locals>.inner()>,\n",
       " '_i22': 'new = outer',\n",
       " '_i23': 'new()',\n",
       " '_23': <function __main__.outer.<locals>.inner()>,\n",
       " '_i24': 'print(new())',\n",
       " '_i25': 'new = outer()',\n",
       " '_i26': 'new()',\n",
       " '_26': 200,\n",
       " '_i27': 'print(new())',\n",
       " '_i28': 'inner = outer()',\n",
       " 'inner': <function __main__.outer.<locals>.inner()>,\n",
       " '_i29': 'inner()',\n",
       " '_29': 200,\n",
       " '_i30': 'def outer():\\n    \\n    def inner():\\n        print(\"hello\")\\n    return inner\\n\\nouter()',\n",
       " '_30': <function __main__.outer.<locals>.inner()>,\n",
       " '_i31': 'def outer():\\n    \\n    def inner():\\n        print(\"hello\")\\n    return inner\\n\\ninner = outer()\\ninner()',\n",
       " '_i32': 'a = 10\\ndef demo():\\n    print(\"hello\")',\n",
       " 'a': 10,\n",
       " 'demo': <function __main__.demo()>,\n",
       " '_i33': 'a = 10\\ndef demo():\\n    print(\"hello\")\\n    \\nglobals()'}"
      ]
     },
     "execution_count": 33,
     "metadata": {},
     "output_type": "execute_result"
    }
   ],
   "source": [
    "a = 10\n",
    "def demo():\n",
    "    print(\"hello\")\n",
    "    \n",
    "globals()"
   ]
  },
  {
   "cell_type": "code",
   "execution_count": 36,
   "metadata": {},
   "outputs": [
    {
     "data": {
      "text/plain": [
       "10"
      ]
     },
     "execution_count": 36,
     "metadata": {},
     "output_type": "execute_result"
    }
   ],
   "source": [
    "a = 10\n",
    "def demo():\n",
    "    print(\"hello\")\n",
    "    \n",
    "globals()['a']"
   ]
  },
  {
   "cell_type": "code",
   "execution_count": 38,
   "metadata": {},
   "outputs": [
    {
     "name": "stdout",
     "output_type": "stream",
     "text": [
      "hello\n",
      "10\n"
     ]
    }
   ],
   "source": [
    "a = 10\n",
    "def demo():\n",
    "    print(\"hello\")\n",
    "    print(globals()['a'])\n",
    "    \n",
    "demo()"
   ]
  },
  {
   "cell_type": "code",
   "execution_count": 40,
   "metadata": {},
   "outputs": [
    {
     "name": "stdout",
     "output_type": "stream",
     "text": [
      "hello\n",
      "1000\n"
     ]
    }
   ],
   "source": [
    "a = 10\n",
    "def demo():\n",
    "    print(\"hello\")\n",
    "    globals()['a'] = 1000\n",
    "    \n",
    "demo()\n",
    "print(a)"
   ]
  },
  {
   "cell_type": "code",
   "execution_count": 42,
   "metadata": {},
   "outputs": [
    {
     "name": "stdout",
     "output_type": "stream",
     "text": [
      "{'b': 100}\n",
      "hello\n",
      "1000\n"
     ]
    }
   ],
   "source": [
    "a = 10\n",
    "def demo():\n",
    "    b = 100\n",
    "    print(locals())\n",
    "    print(\"hello\")\n",
    "    globals()['a'] = 1000\n",
    "    \n",
    "demo()\n",
    "print(a)"
   ]
  },
  {
   "cell_type": "code",
   "execution_count": 43,
   "metadata": {},
   "outputs": [
    {
     "name": "stdout",
     "output_type": "stream",
     "text": [
      "100\n",
      "hello\n",
      "1000\n"
     ]
    }
   ],
   "source": [
    "a = 10\n",
    "def demo():\n",
    "    b = 100\n",
    "    print(locals()['b'])\n",
    "    print(\"hello\")\n",
    "    globals()['a'] = 1000\n",
    "    \n",
    "demo()\n",
    "print(a)"
   ]
  },
  {
   "cell_type": "code",
   "execution_count": null,
   "metadata": {},
   "outputs": [],
   "source": []
  },
  {
   "cell_type": "code",
   "execution_count": null,
   "metadata": {},
   "outputs": [],
   "source": []
  },
  {
   "cell_type": "code",
   "execution_count": null,
   "metadata": {},
   "outputs": [],
   "source": []
  },
  {
   "cell_type": "code",
   "execution_count": null,
   "metadata": {},
   "outputs": [],
   "source": []
  },
  {
   "cell_type": "code",
   "execution_count": null,
   "metadata": {},
   "outputs": [],
   "source": []
  }
 ],
 "metadata": {
  "kernelspec": {
   "display_name": "Python 3",
   "language": "python",
   "name": "python3"
  },
  "language_info": {
   "codemirror_mode": {
    "name": "ipython",
    "version": 3
   },
   "file_extension": ".py",
   "mimetype": "text/x-python",
   "name": "python",
   "nbconvert_exporter": "python",
   "pygments_lexer": "ipython3",
   "version": "3.7.6"
  }
 },
 "nbformat": 4,
 "nbformat_minor": 4
}
